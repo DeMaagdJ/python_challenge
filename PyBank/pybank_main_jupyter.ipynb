{
 "cells": [
  {
   "cell_type": "code",
   "execution_count": 39,
   "id": "9589f648",
   "metadata": {},
   "outputs": [],
   "source": [
    "import os\n",
    "import csv"
   ]
  },
  {
   "cell_type": "code",
   "execution_count": 40,
   "id": "3c611ced",
   "metadata": {},
   "outputs": [],
   "source": [
    "#Path to collect data from the resources folder\n",
    "budget_data_csv = os.path.join(\"/Users/Justin/Documents/Bootcamp_Home folder/homework/Module 3/python_challenge/PyBank/Resources/budget_data.csv\")\n",
    "\n"
   ]
  },
  {
   "cell_type": "code",
   "execution_count": 41,
   "id": "ba680887",
   "metadata": {},
   "outputs": [
    {
     "name": "stdout",
     "output_type": "stream",
     "text": [
      "                   \n",
      "Financial Analysis\n",
      "---------------------------\n"
     ]
    }
   ],
   "source": [
    "print(f'                   ')\n",
    "print(f'Financial Analysis')\n",
    "print(f'---------------------------')"
   ]
  },
  {
   "cell_type": "code",
   "execution_count": 42,
   "id": "55fc4152",
   "metadata": {},
   "outputs": [],
   "source": [
    "sum_1 = 0\n",
    "total_months = 0\n",
    "changeList = []\n",
    "dictionary= {}\n",
    "\n",
    "start_val_set = False\n",
    "last_val = 0"
   ]
  },
  {
   "cell_type": "code",
   "execution_count": 43,
   "id": "6b846404",
   "metadata": {},
   "outputs": [
    {
     "name": "stdout",
     "output_type": "stream",
     "text": [
      "0\n",
      "-1443517\n",
      "631156\n",
      "-1004755\n",
      "1581126\n",
      "-289272\n",
      "-1098929\n",
      "1167557\n",
      "-806093\n",
      "1124485\n",
      "-1736491\n",
      "-408383\n",
      "604557\n",
      "-294345\n",
      "1327485\n",
      "394323\n",
      "243585\n",
      "-617439\n",
      "-1530577\n",
      "1390390\n",
      "-1130397\n",
      "1293604\n",
      "641758\n",
      "-337413\n",
      "-52031\n",
      "-937192\n",
      "863841\n",
      "-76245\n",
      "-100481\n",
      "-960729\n",
      "591856\n",
      "54930\n",
      "680102\n",
      "-250254\n",
      "-840415\n",
      "582358\n",
      "-48628\n",
      "-135256\n",
      "978586\n",
      "-599210\n",
      "-442789\n",
      "652924\n",
      "-1005714\n",
      "1167373\n",
      "-234900\n",
      "-165147\n",
      "-52275\n",
      "-302320\n",
      "719028\n",
      "-1825558\n",
      "1287083\n",
      "-48303\n",
      "210234\n",
      "-236414\n",
      "585165\n",
      "-1400632\n",
      "839777\n",
      "465229\n",
      "317811\n",
      "-760202\n",
      "-71868\n",
      "795457\n",
      "-182685\n",
      "-1242836\n",
      "1371884\n",
      "-445193\n",
      "10025\n",
      "-1043998\n",
      "1350395\n",
      "80538\n",
      "-1223250\n",
      "104148\n",
      "843924\n",
      "-1808664\n",
      "1505005\n",
      "306402\n",
      "-143603\n",
      "-1266937\n",
      "-162519\n",
      "1862002\n",
      "-52986\n",
      "-1627245\n",
      "616795\n",
      "628522\n",
      "90895\n",
      "-224669\n"
     ]
    }
   ],
   "source": [
    "#open and read csv\n",
    "with open(budget_data_csv) as csv_file:\n",
    "    csv_reader = csv.reader(csv_file, delimiter=',')\n",
    "    csv_header = next(csv_reader)\n",
    "\n",
    "\n",
    "    for row in csv_reader:\n",
    "        \n",
    "        date_id = row[0]\n",
    "        value_id = int(row[1]) #Iterated values in profit/losses\n",
    "        \n",
    "        \n",
    "        \n",
    "        if start_val_set == False:\n",
    "            last_val = value_id\n",
    "            start_val_set = True\n",
    "              \n",
    "           \n",
    "         \n",
    "        total_months += 1 #Iterated total months\n",
    "        value_id = int(row[1]) #Iterated values in profit/losses\n",
    "        sum_1 = sum_1 + int(value_id) #Formula for Total Amount\n",
    "        change = value_id - last_val #Formula to calculate change in values and have it iterated\n",
    "        last_val = value_id #Restart iterating values in profit/losses to populate into list\n",
    "        dictionary[date_id] = change\n",
    "        print(change)\n",
    "    "
   ]
  },
  {
   "cell_type": "code",
   "execution_count": 44,
   "id": "4cf1cb7b",
   "metadata": {},
   "outputs": [
    {
     "data": {
      "text/plain": [
       "int"
      ]
     },
     "execution_count": 44,
     "metadata": {},
     "output_type": "execute_result"
    }
   ],
   "source": [
    "type(dictionary['Jan-11'])"
   ]
  },
  {
   "cell_type": "code",
   "execution_count": 45,
   "id": "04d3e3ca",
   "metadata": {},
   "outputs": [
    {
     "data": {
      "text/plain": [
       "-706444"
      ]
     },
     "execution_count": 45,
     "metadata": {},
     "output_type": "execute_result"
    }
   ],
   "source": [
    "minval = min(dictionary.values())\n",
    "date_of_min = [k for k, v in dictionary.items() if v==minval]\n",
    "maxval = max(dictionary.values())\n",
    "date_of_max = [k for k, v in dictionary.items() if v==maxval]\n",
    "\n",
    "date_of_min[0]\n",
    "date_of_max[0]\n",
    "\n",
    "total_months = len(dictionary.keys())\n",
    "\n",
    "s = 0\n",
    "for i in dictionary.values():\n",
    "    #print(s)\n",
    "    s = s + i\n",
    "    \n",
    "s\n"
   ]
  },
  {
   "cell_type": "code",
   "execution_count": 46,
   "id": "ddf35fce",
   "metadata": {
    "scrolled": true
   },
   "outputs": [
    {
     "name": "stdout",
     "output_type": "stream",
     "text": [
      "Total Months: 86\n",
      "Total: $22564198\n",
      "Average Change: $-8311.105882352942\n",
      "Greatest Increase in Profits:  Aug-16 1862002\n",
      "Greatest Decrease in Profits:  Feb-14 -1825558\n"
     ]
    }
   ],
   "source": [
    "print(\"Total Months: \" + str(total_months))\n",
    "print(\"Total: $\" + str(sum_1))\n",
    "print(\"Average Change: $\" + str(s/(total_months-1)))\n",
    "print(\"Greatest Increase in Profits: \", date_of_max[0], (maxval))\n",
    "print(\"Greatest Decrease in Profits: \", date_of_min[0], (minval))"
   ]
  },
  {
   "cell_type": "code",
   "execution_count": null,
   "id": "dda802b2",
   "metadata": {},
   "outputs": [],
   "source": []
  },
  {
   "cell_type": "code",
   "execution_count": null,
   "id": "4d0f5c90",
   "metadata": {},
   "outputs": [],
   "source": []
  }
 ],
 "metadata": {
  "kernelspec": {
   "display_name": "PythonData",
   "language": "python",
   "name": "pythondata"
  },
  "language_info": {
   "codemirror_mode": {
    "name": "ipython",
    "version": 3
   },
   "file_extension": ".py",
   "mimetype": "text/x-python",
   "name": "python",
   "nbconvert_exporter": "python",
   "pygments_lexer": "ipython3",
   "version": "3.7.7"
  }
 },
 "nbformat": 4,
 "nbformat_minor": 5
}
