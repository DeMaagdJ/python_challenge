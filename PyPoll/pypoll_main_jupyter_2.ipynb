{
 "cells": [
  {
   "cell_type": "code",
   "execution_count": 1,
   "id": "749a122f",
   "metadata": {},
   "outputs": [],
   "source": [
    "import os\n",
    "import csv"
   ]
  },
  {
   "cell_type": "code",
   "execution_count": 2,
   "id": "fe91f034",
   "metadata": {},
   "outputs": [],
   "source": [
    "election_csv = os.path.join(\"/Users/Justin/Documents/Bootcamp_Home folder/homework/Module 3/python_challenge/PyPoll/Resources/election_data.csv\")"
   ]
  },
  {
   "cell_type": "code",
   "execution_count": 3,
   "id": "c9d8d93b",
   "metadata": {},
   "outputs": [],
   "source": [
    "total_votes = 0"
   ]
  },
  {
   "cell_type": "code",
   "execution_count": 4,
   "id": "8de47985",
   "metadata": {},
   "outputs": [],
   "source": [
    "with open(election_csv) as csv_file:\n",
    "    csv_reader = csv.reader(csv_file, delimiter= \",\")\n",
    "    csv_header = next(csv_reader)\n",
    "\n",
    "    total_votes = sum(1 for row in csv_reader)\n",
    "    csv_file.seek(0)\n",
    "    csv_reader = csv_file.read()\n",
    "    CCS = (csv_reader.count(\"Charles Casper Stockham\")/ total_votes)\n",
    "    DD = (csv_reader.count(\"Diana DeGette\")/ total_votes)\n",
    "    RAD = (csv_reader.count(\"Raymon Anthony Doane\")/ total_votes)"
   ]
  },
  {
   "cell_type": "code",
   "execution_count": 9,
   "id": "20978fdf",
   "metadata": {},
   "outputs": [
    {
     "name": "stdout",
     "output_type": "stream",
     "text": [
      "Election Results\n",
      "----------------------------\n",
      "369711\n",
      "----------------------------\n",
      "Charles Casper Stockham:   23.049% 85213\n",
      "Diana DeGette:   73.812% 272892\n",
      "Raymon Anthony Doane:   3.139% 11606\n"
     ]
    }
   ],
   "source": [
    "print(\"Election Results\", file=s)\n",
    "print(\"----------------------------\", file=s)\n",
    "print(total_votes)\n",
    "print(\"----------------------------\", file=s)\n",
    "print(\"Charles Casper Stockham: \", (f\"{CCS: .3%}\") , (csv_reader.count(\"Charles Casper Stockham\")), file=s)\n",
    "print(\"Diana DeGette: \",(f\"{DD: .3%}\") , (csv_reader.count(\"Diana DeGette\")), file=s)\n",
    "print(\"Raymon Anthony Doane: \", (f\"{RAD: .3%}\"), (csv_reader.count(\"Raymon Anthony Doane\")), file=s)"
   ]
  },
  {
   "cell_type": "code",
   "execution_count": 6,
   "id": "bd90856b",
   "metadata": {},
   "outputs": [],
   "source": [
    "Results = {\"Charles Casper Stockham\":CCS, \"Diana DeGette\":DD, \"Raymon Anthony Doane\":RAD}\n",
    "Winner = max(Results, key=Results.get)"
   ]
  },
  {
   "cell_type": "code",
   "execution_count": 7,
   "id": "1a4771b0",
   "metadata": {},
   "outputs": [
    {
     "name": "stdout",
     "output_type": "stream",
     "text": [
      "----------------------------\n",
      "Winner:  {'Diana DeGette'}\n",
      "----------------------------\n"
     ]
    }
   ],
   "source": [
    "print(\"----------------------------\", file=s)\n",
    "print(\"Winner: \", {Winner}, file=s)\n",
    "print(\"----------------------------\", file=s)"
   ]
  },
  {
   "cell_type": "code",
   "execution_count": 10,
   "id": "46fa869c",
   "metadata": {},
   "outputs": [],
   "source": [
    "s = open(\"Election Results.txt\", \"a\")"
   ]
  },
  {
   "cell_type": "code",
   "execution_count": null,
   "id": "b8497c76",
   "metadata": {},
   "outputs": [],
   "source": []
  }
 ],
 "metadata": {
  "kernelspec": {
   "display_name": "PythonData",
   "language": "python",
   "name": "pythondata"
  },
  "language_info": {
   "codemirror_mode": {
    "name": "ipython",
    "version": 3
   },
   "file_extension": ".py",
   "mimetype": "text/x-python",
   "name": "python",
   "nbconvert_exporter": "python",
   "pygments_lexer": "ipython3",
   "version": "3.7.7"
  }
 },
 "nbformat": 4,
 "nbformat_minor": 5
}
